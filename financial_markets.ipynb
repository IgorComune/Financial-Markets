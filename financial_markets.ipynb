{
  "nbformat": 4,
  "nbformat_minor": 0,
  "metadata": {
    "colab": {
      "name": "financial_markets.ipynb",
      "provenance": [],
      "authorship_tag": "ABX9TyOP7uqb1+XpdBsbRnxJEECx",
      "include_colab_link": true
    },
    "kernelspec": {
      "name": "python3",
      "display_name": "Python 3"
    },
    "language_info": {
      "name": "python"
    }
  },
  "cells": [
    {
      "cell_type": "markdown",
      "metadata": {
        "id": "view-in-github",
        "colab_type": "text"
      },
      "source": [
        "<a href=\"https://colab.research.google.com/github/IgorComune/Financial-Markets/blob/main/financial_markets.ipynb\" target=\"_parent\"><img src=\"https://colab.research.google.com/assets/colab-badge.svg\" alt=\"Open In Colab\"/></a>"
      ]
    },
    {
      "cell_type": "markdown",
      "metadata": {
        "id": "gHKgwqBgwAet"
      },
      "source": [
        "#Installations"
      ]
    },
    {
      "cell_type": "code",
      "metadata": {
        "id": "R6j9kedbv-o5"
      },
      "source": [
        "pip install investpy"
      ],
      "execution_count": null,
      "outputs": []
    },
    {
      "cell_type": "code",
      "metadata": {
        "id": "wt5KUxqw3BuT"
      },
      "source": [
        "pip install yfinance"
      ],
      "execution_count": null,
      "outputs": []
    },
    {
      "cell_type": "markdown",
      "metadata": {
        "id": "oa--64xBvt1v"
      },
      "source": [
        "#Libraries"
      ]
    },
    {
      "cell_type": "code",
      "metadata": {
        "id": "a0f8ehkDvsv3"
      },
      "source": [
        "import pandas as pd\n",
        "import numpy as np\n",
        "import matplotlib.pyplot as plt\n",
        "import datetime as dt\n",
        "\n",
        "#data retrieving\n",
        "import investpy\n",
        "import yfinance as yf"
      ],
      "execution_count": 49,
      "outputs": []
    },
    {
      "cell_type": "markdown",
      "metadata": {
        "id": "9osV3N69wOne"
      },
      "source": [
        "#Data Retrieving"
      ]
    },
    {
      "cell_type": "markdown",
      "metadata": {
        "id": "uLwIUCTR3Lxj"
      },
      "source": [
        "## InvestPy"
      ]
    },
    {
      "cell_type": "code",
      "metadata": {
        "colab": {
          "base_uri": "https://localhost:8080/"
        },
        "id": "B-EBVjriwQ48",
        "outputId": "c418c47d-324c-4fc3-f283-9222ae621cc2"
      },
      "source": [
        "df = investpy.get_stock_historical_data(stock='AAPL',\n",
        "                                        country='United States',\n",
        "                                        from_date='01/01/2019',\n",
        "                                        to_date='01/01/2020',)\n",
        "df.head()"
      ],
      "execution_count": 9,
      "outputs": [
        {
          "output_type": "stream",
          "text": [
            "             Open   High    Low  Close     Volume Currency\n",
            "Date                                                      \n",
            "2019-01-02  38.72  39.71  38.56  39.48  148158944      USD\n",
            "2019-01-03  35.99  36.43  35.50  35.55  365248768      USD\n",
            "2019-01-04  36.13  37.14  35.95  37.06  234428288      USD\n",
            "2019-01-07  37.17  37.21  36.48  36.98  219111056      USD\n",
            "2019-01-08  37.39  37.95  37.13  37.69  164101248      USD\n"
          ],
          "name": "stdout"
        }
      ]
    },
    {
      "cell_type": "code",
      "metadata": {
        "colab": {
          "base_uri": "https://localhost:8080/",
          "height": 234
        },
        "id": "yQAKRp1_zuHA",
        "outputId": "e8f34109-a088-4581-a63c-9a7804565cad"
      },
      "source": [
        "petr4 = investpy.get_stock_historical_data(stock='PETR4',\n",
        "                                        country='Brazil',\n",
        "                                        from_date='01/01/2015',\n",
        "                                        to_date='15/08/2021',\n",
        "                                        interval='Daily')\n",
        "df.head()"
      ],
      "execution_count": 8,
      "outputs": [
        {
          "output_type": "execute_result",
          "data": {
            "text/html": [
              "<div>\n",
              "<style scoped>\n",
              "    .dataframe tbody tr th:only-of-type {\n",
              "        vertical-align: middle;\n",
              "    }\n",
              "\n",
              "    .dataframe tbody tr th {\n",
              "        vertical-align: top;\n",
              "    }\n",
              "\n",
              "    .dataframe thead th {\n",
              "        text-align: right;\n",
              "    }\n",
              "</style>\n",
              "<table border=\"1\" class=\"dataframe\">\n",
              "  <thead>\n",
              "    <tr style=\"text-align: right;\">\n",
              "      <th></th>\n",
              "      <th>Open</th>\n",
              "      <th>High</th>\n",
              "      <th>Low</th>\n",
              "      <th>Close</th>\n",
              "      <th>Volume</th>\n",
              "      <th>Currency</th>\n",
              "    </tr>\n",
              "    <tr>\n",
              "      <th>Date</th>\n",
              "      <th></th>\n",
              "      <th></th>\n",
              "      <th></th>\n",
              "      <th></th>\n",
              "      <th></th>\n",
              "      <th></th>\n",
              "    </tr>\n",
              "  </thead>\n",
              "  <tbody>\n",
              "    <tr>\n",
              "      <th>2015-01-02</th>\n",
              "      <td>9.58</td>\n",
              "      <td>9.58</td>\n",
              "      <td>8.98</td>\n",
              "      <td>8.98</td>\n",
              "      <td>48211700</td>\n",
              "      <td>BRL</td>\n",
              "    </tr>\n",
              "    <tr>\n",
              "      <th>2015-01-05</th>\n",
              "      <td>8.77</td>\n",
              "      <td>8.82</td>\n",
              "      <td>8.23</td>\n",
              "      <td>8.26</td>\n",
              "      <td>73379000</td>\n",
              "      <td>BRL</td>\n",
              "    </tr>\n",
              "    <tr>\n",
              "      <th>2015-01-06</th>\n",
              "      <td>8.36</td>\n",
              "      <td>8.47</td>\n",
              "      <td>7.71</td>\n",
              "      <td>7.99</td>\n",
              "      <td>81380800</td>\n",
              "      <td>BRL</td>\n",
              "    </tr>\n",
              "    <tr>\n",
              "      <th>2015-01-07</th>\n",
              "      <td>8.21</td>\n",
              "      <td>8.38</td>\n",
              "      <td>8.02</td>\n",
              "      <td>8.32</td>\n",
              "      <td>83759696</td>\n",
              "      <td>BRL</td>\n",
              "    </tr>\n",
              "    <tr>\n",
              "      <th>2015-01-08</th>\n",
              "      <td>8.43</td>\n",
              "      <td>9.01</td>\n",
              "      <td>8.38</td>\n",
              "      <td>8.81</td>\n",
              "      <td>81986600</td>\n",
              "      <td>BRL</td>\n",
              "    </tr>\n",
              "  </tbody>\n",
              "</table>\n",
              "</div>"
            ],
            "text/plain": [
              "            Open  High   Low  Close    Volume Currency\n",
              "Date                                                  \n",
              "2015-01-02  9.58  9.58  8.98   8.98  48211700      BRL\n",
              "2015-01-05  8.77  8.82  8.23   8.26  73379000      BRL\n",
              "2015-01-06  8.36  8.47  7.71   7.99  81380800      BRL\n",
              "2015-01-07  8.21  8.38  8.02   8.32  83759696      BRL\n",
              "2015-01-08  8.43  9.01  8.38   8.81  81986600      BRL"
            ]
          },
          "metadata": {},
          "execution_count": 8
        }
      ]
    },
    {
      "cell_type": "markdown",
      "metadata": {
        "id": "jl2UUtKI9mvw"
      },
      "source": [
        "## Yahoo Finance"
      ]
    },
    {
      "cell_type": "code",
      "metadata": {
        "colab": {
          "base_uri": "https://localhost:8080/",
          "height": 234
        },
        "id": "4J0fs5AM3Qa8",
        "outputId": "cdec519b-1c91-424f-ac75-a9ea306e7d5a"
      },
      "source": [
        "petr4 = yf.Ticker('PETR4.SA')\n",
        "petr4 = petr4.history(interval='60m')\n",
        "petr4.head()"
      ],
      "execution_count": 48,
      "outputs": [
        {
          "output_type": "execute_result",
          "data": {
            "text/html": [
              "<div>\n",
              "<style scoped>\n",
              "    .dataframe tbody tr th:only-of-type {\n",
              "        vertical-align: middle;\n",
              "    }\n",
              "\n",
              "    .dataframe tbody tr th {\n",
              "        vertical-align: top;\n",
              "    }\n",
              "\n",
              "    .dataframe thead th {\n",
              "        text-align: right;\n",
              "    }\n",
              "</style>\n",
              "<table border=\"1\" class=\"dataframe\">\n",
              "  <thead>\n",
              "    <tr style=\"text-align: right;\">\n",
              "      <th></th>\n",
              "      <th>Open</th>\n",
              "      <th>High</th>\n",
              "      <th>Low</th>\n",
              "      <th>Close</th>\n",
              "      <th>Volume</th>\n",
              "      <th>Dividends</th>\n",
              "      <th>Stock Splits</th>\n",
              "    </tr>\n",
              "    <tr>\n",
              "      <th>Datetime</th>\n",
              "      <th></th>\n",
              "      <th></th>\n",
              "      <th></th>\n",
              "      <th></th>\n",
              "      <th></th>\n",
              "      <th></th>\n",
              "      <th></th>\n",
              "    </tr>\n",
              "  </thead>\n",
              "  <tbody>\n",
              "    <tr>\n",
              "      <th>2021-07-21 10:00:00-03:00</th>\n",
              "      <td>26.790001</td>\n",
              "      <td>27.059999</td>\n",
              "      <td>26.590000</td>\n",
              "      <td>27.049999</td>\n",
              "      <td>0</td>\n",
              "      <td>0.0</td>\n",
              "      <td>0</td>\n",
              "    </tr>\n",
              "    <tr>\n",
              "      <th>2021-07-21 11:00:00-03:00</th>\n",
              "      <td>27.059999</td>\n",
              "      <td>27.129999</td>\n",
              "      <td>26.820000</td>\n",
              "      <td>26.990000</td>\n",
              "      <td>10544700</td>\n",
              "      <td>0.0</td>\n",
              "      <td>0</td>\n",
              "    </tr>\n",
              "    <tr>\n",
              "      <th>2021-07-21 12:00:00-03:00</th>\n",
              "      <td>26.990000</td>\n",
              "      <td>27.180000</td>\n",
              "      <td>26.959999</td>\n",
              "      <td>27.110001</td>\n",
              "      <td>4462900</td>\n",
              "      <td>0.0</td>\n",
              "      <td>0</td>\n",
              "    </tr>\n",
              "    <tr>\n",
              "      <th>2021-07-21 13:00:00-03:00</th>\n",
              "      <td>27.120001</td>\n",
              "      <td>27.240000</td>\n",
              "      <td>27.059999</td>\n",
              "      <td>27.150000</td>\n",
              "      <td>3920300</td>\n",
              "      <td>0.0</td>\n",
              "      <td>0</td>\n",
              "    </tr>\n",
              "    <tr>\n",
              "      <th>2021-07-21 14:00:00-03:00</th>\n",
              "      <td>27.139999</td>\n",
              "      <td>27.240000</td>\n",
              "      <td>27.059999</td>\n",
              "      <td>27.080000</td>\n",
              "      <td>4399900</td>\n",
              "      <td>0.0</td>\n",
              "      <td>0</td>\n",
              "    </tr>\n",
              "  </tbody>\n",
              "</table>\n",
              "</div>"
            ],
            "text/plain": [
              "                                Open       High  ...  Dividends  Stock Splits\n",
              "Datetime                                         ...                         \n",
              "2021-07-21 10:00:00-03:00  26.790001  27.059999  ...        0.0             0\n",
              "2021-07-21 11:00:00-03:00  27.059999  27.129999  ...        0.0             0\n",
              "2021-07-21 12:00:00-03:00  26.990000  27.180000  ...        0.0             0\n",
              "2021-07-21 13:00:00-03:00  27.120001  27.240000  ...        0.0             0\n",
              "2021-07-21 14:00:00-03:00  27.139999  27.240000  ...        0.0             0\n",
              "\n",
              "[5 rows x 7 columns]"
            ]
          },
          "metadata": {},
          "execution_count": 48
        }
      ]
    },
    {
      "cell_type": "markdown",
      "metadata": {
        "id": "S4jt7wWa7Bwx"
      },
      "source": [
        "## The Dataset"
      ]
    },
    {
      "cell_type": "code",
      "metadata": {
        "id": "KMT7L01l620y"
      },
      "source": [
        "#setting the display of rows in the data frames\n",
        "pd.set_option('display.max_rows', 10)"
      ],
      "execution_count": 79,
      "outputs": []
    },
    {
      "cell_type": "code",
      "metadata": {
        "id": "-8siHq6Z-qZp"
      },
      "source": [
        "#dropping two columns\n",
        "petr4 = petr4.drop(labels=['Dividends', 'Stock Splits'], axis=1)\n",
        "petr4.head()"
      ],
      "execution_count": null,
      "outputs": []
    },
    {
      "cell_type": "code",
      "metadata": {
        "colab": {
          "base_uri": "https://localhost:8080/",
          "height": 447
        },
        "id": "h6Gb25LgJNq0",
        "outputId": "7682d137-4b29-4efa-b129-addaa4d3a343"
      },
      "source": [
        "#all the dataset\n",
        "petr4"
      ],
      "execution_count": 80,
      "outputs": [
        {
          "output_type": "execute_result",
          "data": {
            "text/html": [
              "<div>\n",
              "<style scoped>\n",
              "    .dataframe tbody tr th:only-of-type {\n",
              "        vertical-align: middle;\n",
              "    }\n",
              "\n",
              "    .dataframe tbody tr th {\n",
              "        vertical-align: top;\n",
              "    }\n",
              "\n",
              "    .dataframe thead th {\n",
              "        text-align: right;\n",
              "    }\n",
              "</style>\n",
              "<table border=\"1\" class=\"dataframe\">\n",
              "  <thead>\n",
              "    <tr style=\"text-align: right;\">\n",
              "      <th></th>\n",
              "      <th>Open</th>\n",
              "      <th>High</th>\n",
              "      <th>Low</th>\n",
              "      <th>Close</th>\n",
              "      <th>Volume</th>\n",
              "    </tr>\n",
              "    <tr>\n",
              "      <th>Datetime</th>\n",
              "      <th></th>\n",
              "      <th></th>\n",
              "      <th></th>\n",
              "      <th></th>\n",
              "      <th></th>\n",
              "    </tr>\n",
              "  </thead>\n",
              "  <tbody>\n",
              "    <tr>\n",
              "      <th>2021-07-21 10:00:00-03:00</th>\n",
              "      <td>26.790001</td>\n",
              "      <td>27.059999</td>\n",
              "      <td>26.590000</td>\n",
              "      <td>27.049999</td>\n",
              "      <td>0</td>\n",
              "    </tr>\n",
              "    <tr>\n",
              "      <th>2021-07-21 11:00:00-03:00</th>\n",
              "      <td>27.059999</td>\n",
              "      <td>27.129999</td>\n",
              "      <td>26.820000</td>\n",
              "      <td>26.990000</td>\n",
              "      <td>10544700</td>\n",
              "    </tr>\n",
              "    <tr>\n",
              "      <th>2021-07-21 12:00:00-03:00</th>\n",
              "      <td>26.990000</td>\n",
              "      <td>27.180000</td>\n",
              "      <td>26.959999</td>\n",
              "      <td>27.110001</td>\n",
              "      <td>4462900</td>\n",
              "    </tr>\n",
              "    <tr>\n",
              "      <th>2021-07-21 13:00:00-03:00</th>\n",
              "      <td>27.120001</td>\n",
              "      <td>27.240000</td>\n",
              "      <td>27.059999</td>\n",
              "      <td>27.150000</td>\n",
              "      <td>3920300</td>\n",
              "    </tr>\n",
              "    <tr>\n",
              "      <th>2021-07-21 14:00:00-03:00</th>\n",
              "      <td>27.139999</td>\n",
              "      <td>27.240000</td>\n",
              "      <td>27.059999</td>\n",
              "      <td>27.080000</td>\n",
              "      <td>4399900</td>\n",
              "    </tr>\n",
              "    <tr>\n",
              "      <th>...</th>\n",
              "      <td>...</td>\n",
              "      <td>...</td>\n",
              "      <td>...</td>\n",
              "      <td>...</td>\n",
              "      <td>...</td>\n",
              "    </tr>\n",
              "    <tr>\n",
              "      <th>2021-08-20 12:00:00-03:00</th>\n",
              "      <td>26.309999</td>\n",
              "      <td>26.450001</td>\n",
              "      <td>26.299999</td>\n",
              "      <td>26.440001</td>\n",
              "      <td>5757200</td>\n",
              "    </tr>\n",
              "    <tr>\n",
              "      <th>2021-08-20 13:00:00-03:00</th>\n",
              "      <td>26.450001</td>\n",
              "      <td>26.580000</td>\n",
              "      <td>26.440001</td>\n",
              "      <td>26.559999</td>\n",
              "      <td>6686500</td>\n",
              "    </tr>\n",
              "    <tr>\n",
              "      <th>2021-08-20 14:00:00-03:00</th>\n",
              "      <td>26.549999</td>\n",
              "      <td>26.559999</td>\n",
              "      <td>26.309999</td>\n",
              "      <td>26.330000</td>\n",
              "      <td>6301100</td>\n",
              "    </tr>\n",
              "    <tr>\n",
              "      <th>2021-08-20 15:00:00-03:00</th>\n",
              "      <td>26.340000</td>\n",
              "      <td>26.430000</td>\n",
              "      <td>26.299999</td>\n",
              "      <td>26.340000</td>\n",
              "      <td>5482800</td>\n",
              "    </tr>\n",
              "    <tr>\n",
              "      <th>2021-08-20 16:00:00-03:00</th>\n",
              "      <td>26.350000</td>\n",
              "      <td>26.620001</td>\n",
              "      <td>26.290001</td>\n",
              "      <td>26.600000</td>\n",
              "      <td>25890000</td>\n",
              "    </tr>\n",
              "  </tbody>\n",
              "</table>\n",
              "<p>161 rows × 5 columns</p>\n",
              "</div>"
            ],
            "text/plain": [
              "                                Open       High        Low      Close    Volume\n",
              "Datetime                                                                       \n",
              "2021-07-21 10:00:00-03:00  26.790001  27.059999  26.590000  27.049999         0\n",
              "2021-07-21 11:00:00-03:00  27.059999  27.129999  26.820000  26.990000  10544700\n",
              "2021-07-21 12:00:00-03:00  26.990000  27.180000  26.959999  27.110001   4462900\n",
              "2021-07-21 13:00:00-03:00  27.120001  27.240000  27.059999  27.150000   3920300\n",
              "2021-07-21 14:00:00-03:00  27.139999  27.240000  27.059999  27.080000   4399900\n",
              "...                              ...        ...        ...        ...       ...\n",
              "2021-08-20 12:00:00-03:00  26.309999  26.450001  26.299999  26.440001   5757200\n",
              "2021-08-20 13:00:00-03:00  26.450001  26.580000  26.440001  26.559999   6686500\n",
              "2021-08-20 14:00:00-03:00  26.549999  26.559999  26.309999  26.330000   6301100\n",
              "2021-08-20 15:00:00-03:00  26.340000  26.430000  26.299999  26.340000   5482800\n",
              "2021-08-20 16:00:00-03:00  26.350000  26.620001  26.290001  26.600000  25890000\n",
              "\n",
              "[161 rows x 5 columns]"
            ]
          },
          "metadata": {},
          "execution_count": 80
        }
      ]
    },
    {
      "cell_type": "code",
      "metadata": {
        "colab": {
          "base_uri": "https://localhost:8080/"
        },
        "id": "ejl_Thj_GJAA",
        "outputId": "9e52a56b-7e34-464b-be8a-297f8502410b"
      },
      "source": [
        "#checking the index\n",
        "petr4.index"
      ],
      "execution_count": 68,
      "outputs": [
        {
          "output_type": "execute_result",
          "data": {
            "text/plain": [
              "DatetimeIndex(['2021-07-21 10:00:00-03:00', '2021-07-21 11:00:00-03:00',\n",
              "               '2021-07-21 12:00:00-03:00', '2021-07-21 13:00:00-03:00',\n",
              "               '2021-07-21 14:00:00-03:00', '2021-07-21 15:00:00-03:00',\n",
              "               '2021-07-21 16:00:00-03:00', '2021-07-22 10:00:00-03:00',\n",
              "               '2021-07-22 11:00:00-03:00', '2021-07-22 12:00:00-03:00',\n",
              "               ...\n",
              "               '2021-08-19 14:00:00-03:00', '2021-08-19 15:00:00-03:00',\n",
              "               '2021-08-19 16:00:00-03:00', '2021-08-20 10:00:00-03:00',\n",
              "               '2021-08-20 11:00:00-03:00', '2021-08-20 12:00:00-03:00',\n",
              "               '2021-08-20 13:00:00-03:00', '2021-08-20 14:00:00-03:00',\n",
              "               '2021-08-20 15:00:00-03:00', '2021-08-20 16:00:00-03:00'],\n",
              "              dtype='datetime64[ns, America/Sao_Paulo]', name='Datetime', length=161, freq=None)"
            ]
          },
          "metadata": {},
          "execution_count": 68
        }
      ]
    },
    {
      "cell_type": "code",
      "metadata": {
        "colab": {
          "base_uri": "https://localhost:8080/"
        },
        "id": "CIHkuZjOGm1a",
        "outputId": "0cf2aed8-355b-4801-df02-c1ca91f27a6c"
      },
      "source": [
        "#checking the datatype of the index\n",
        "type(petr4.index[0])"
      ],
      "execution_count": 69,
      "outputs": [
        {
          "output_type": "execute_result",
          "data": {
            "text/plain": [
              "pandas._libs.tslibs.timestamps.Timestamp"
            ]
          },
          "metadata": {},
          "execution_count": 69
        }
      ]
    },
    {
      "cell_type": "code",
      "metadata": {
        "colab": {
          "base_uri": "https://localhost:8080/"
        },
        "id": "s9zeE3WbJfKJ",
        "outputId": "40d0c785-a59f-4f55-cc72-61f847f743ab"
      },
      "source": [
        "#converting index to string type\n",
        "index = petr4.index.astype(str)\n",
        "index"
      ],
      "execution_count": 71,
      "outputs": [
        {
          "output_type": "execute_result",
          "data": {
            "text/plain": [
              "Index(['2021-07-21 10:00:00-03:00', '2021-07-21 11:00:00-03:00',\n",
              "       '2021-07-21 12:00:00-03:00', '2021-07-21 13:00:00-03:00',\n",
              "       '2021-07-21 14:00:00-03:00', '2021-07-21 15:00:00-03:00',\n",
              "       '2021-07-21 16:00:00-03:00', '2021-07-22 10:00:00-03:00',\n",
              "       '2021-07-22 11:00:00-03:00', '2021-07-22 12:00:00-03:00',\n",
              "       ...\n",
              "       '2021-08-19 14:00:00-03:00', '2021-08-19 15:00:00-03:00',\n",
              "       '2021-08-19 16:00:00-03:00', '2021-08-20 10:00:00-03:00',\n",
              "       '2021-08-20 11:00:00-03:00', '2021-08-20 12:00:00-03:00',\n",
              "       '2021-08-20 13:00:00-03:00', '2021-08-20 14:00:00-03:00',\n",
              "       '2021-08-20 15:00:00-03:00', '2021-08-20 16:00:00-03:00'],\n",
              "      dtype='object', name='Datetime', length=161)"
            ]
          },
          "metadata": {},
          "execution_count": 71
        }
      ]
    },
    {
      "cell_type": "code",
      "metadata": {
        "colab": {
          "base_uri": "https://localhost:8080/",
          "height": 35
        },
        "id": "uWWo1SElKGdL",
        "outputId": "6695c09e-af57-43bb-8fb9-24f9d7d75c96"
      },
      "source": [
        "#selecting the length\n",
        "index[0][:19]"
      ],
      "execution_count": 76,
      "outputs": [
        {
          "output_type": "execute_result",
          "data": {
            "application/vnd.google.colaboratory.intrinsic+json": {
              "type": "string"
            },
            "text/plain": [
              "'2021-07-21 10:00:00'"
            ]
          },
          "metadata": {},
          "execution_count": 76
        }
      ]
    },
    {
      "cell_type": "code",
      "metadata": {
        "colab": {
          "base_uri": "https://localhost:8080/"
        },
        "id": "cKP4q-3YKqoK",
        "outputId": "ea17f4b5-c32b-4d08-81ec-ef16dafaa1f3"
      },
      "source": [
        "#creating the new index\n",
        "new_index = []\n",
        "\n",
        "#slicing the string and appending it to the new_index list\n",
        "for line in index:\n",
        "  new_index.append(line[:19])\n",
        "\n",
        "new_index"
      ],
      "execution_count": 83,
      "outputs": [
        {
          "output_type": "execute_result",
          "data": {
            "text/plain": [
              "['2021-07-21 10:00:00',\n",
              " '2021-07-21 11:00:00',\n",
              " '2021-07-21 12:00:00',\n",
              " '2021-07-21 13:00:00',\n",
              " '2021-07-21 14:00:00',\n",
              " '2021-07-21 15:00:00',\n",
              " '2021-07-21 16:00:00',\n",
              " '2021-07-22 10:00:00',\n",
              " '2021-07-22 11:00:00',\n",
              " '2021-07-22 12:00:00',\n",
              " '2021-07-22 13:00:00',\n",
              " '2021-07-22 14:00:00',\n",
              " '2021-07-22 15:00:00',\n",
              " '2021-07-22 16:00:00',\n",
              " '2021-07-23 10:00:00',\n",
              " '2021-07-23 11:00:00',\n",
              " '2021-07-23 12:00:00',\n",
              " '2021-07-23 13:00:00',\n",
              " '2021-07-23 14:00:00',\n",
              " '2021-07-23 15:00:00',\n",
              " '2021-07-23 16:00:00',\n",
              " '2021-07-26 10:00:00',\n",
              " '2021-07-26 11:00:00',\n",
              " '2021-07-26 12:00:00',\n",
              " '2021-07-26 13:00:00',\n",
              " '2021-07-26 14:00:00',\n",
              " '2021-07-26 15:00:00',\n",
              " '2021-07-26 16:00:00',\n",
              " '2021-07-27 10:00:00',\n",
              " '2021-07-27 11:00:00',\n",
              " '2021-07-27 12:00:00',\n",
              " '2021-07-27 13:00:00',\n",
              " '2021-07-27 14:00:00',\n",
              " '2021-07-27 15:00:00',\n",
              " '2021-07-27 16:00:00',\n",
              " '2021-07-28 10:00:00',\n",
              " '2021-07-28 11:00:00',\n",
              " '2021-07-28 12:00:00',\n",
              " '2021-07-28 13:00:00',\n",
              " '2021-07-28 14:00:00',\n",
              " '2021-07-28 15:00:00',\n",
              " '2021-07-28 16:00:00',\n",
              " '2021-07-29 10:00:00',\n",
              " '2021-07-29 11:00:00',\n",
              " '2021-07-29 12:00:00',\n",
              " '2021-07-29 13:00:00',\n",
              " '2021-07-29 14:00:00',\n",
              " '2021-07-29 15:00:00',\n",
              " '2021-07-29 16:00:00',\n",
              " '2021-07-30 10:00:00',\n",
              " '2021-07-30 11:00:00',\n",
              " '2021-07-30 12:00:00',\n",
              " '2021-07-30 13:00:00',\n",
              " '2021-07-30 14:00:00',\n",
              " '2021-07-30 15:00:00',\n",
              " '2021-07-30 16:00:00',\n",
              " '2021-08-02 10:00:00',\n",
              " '2021-08-02 11:00:00',\n",
              " '2021-08-02 12:00:00',\n",
              " '2021-08-02 13:00:00',\n",
              " '2021-08-02 14:00:00',\n",
              " '2021-08-02 15:00:00',\n",
              " '2021-08-02 16:00:00',\n",
              " '2021-08-03 10:00:00',\n",
              " '2021-08-03 11:00:00',\n",
              " '2021-08-03 12:00:00',\n",
              " '2021-08-03 13:00:00',\n",
              " '2021-08-03 14:00:00',\n",
              " '2021-08-03 15:00:00',\n",
              " '2021-08-03 16:00:00',\n",
              " '2021-08-04 10:00:00',\n",
              " '2021-08-04 11:00:00',\n",
              " '2021-08-04 12:00:00',\n",
              " '2021-08-04 13:00:00',\n",
              " '2021-08-04 14:00:00',\n",
              " '2021-08-04 15:00:00',\n",
              " '2021-08-04 16:00:00',\n",
              " '2021-08-05 10:00:00',\n",
              " '2021-08-05 11:00:00',\n",
              " '2021-08-05 12:00:00',\n",
              " '2021-08-05 13:00:00',\n",
              " '2021-08-05 14:00:00',\n",
              " '2021-08-05 15:00:00',\n",
              " '2021-08-05 16:00:00',\n",
              " '2021-08-06 10:00:00',\n",
              " '2021-08-06 11:00:00',\n",
              " '2021-08-06 12:00:00',\n",
              " '2021-08-06 13:00:00',\n",
              " '2021-08-06 14:00:00',\n",
              " '2021-08-06 15:00:00',\n",
              " '2021-08-06 16:00:00',\n",
              " '2021-08-09 10:00:00',\n",
              " '2021-08-09 11:00:00',\n",
              " '2021-08-09 12:00:00',\n",
              " '2021-08-09 13:00:00',\n",
              " '2021-08-09 14:00:00',\n",
              " '2021-08-09 15:00:00',\n",
              " '2021-08-09 16:00:00',\n",
              " '2021-08-10 10:00:00',\n",
              " '2021-08-10 11:00:00',\n",
              " '2021-08-10 12:00:00',\n",
              " '2021-08-10 13:00:00',\n",
              " '2021-08-10 14:00:00',\n",
              " '2021-08-10 15:00:00',\n",
              " '2021-08-10 16:00:00',\n",
              " '2021-08-11 10:00:00',\n",
              " '2021-08-11 11:00:00',\n",
              " '2021-08-11 12:00:00',\n",
              " '2021-08-11 13:00:00',\n",
              " '2021-08-11 14:00:00',\n",
              " '2021-08-11 15:00:00',\n",
              " '2021-08-11 16:00:00',\n",
              " '2021-08-12 10:00:00',\n",
              " '2021-08-12 11:00:00',\n",
              " '2021-08-12 12:00:00',\n",
              " '2021-08-12 13:00:00',\n",
              " '2021-08-12 14:00:00',\n",
              " '2021-08-12 15:00:00',\n",
              " '2021-08-12 16:00:00',\n",
              " '2021-08-13 10:00:00',\n",
              " '2021-08-13 11:00:00',\n",
              " '2021-08-13 12:00:00',\n",
              " '2021-08-13 13:00:00',\n",
              " '2021-08-13 14:00:00',\n",
              " '2021-08-13 15:00:00',\n",
              " '2021-08-13 16:00:00',\n",
              " '2021-08-16 10:00:00',\n",
              " '2021-08-16 11:00:00',\n",
              " '2021-08-16 12:00:00',\n",
              " '2021-08-16 13:00:00',\n",
              " '2021-08-16 14:00:00',\n",
              " '2021-08-16 15:00:00',\n",
              " '2021-08-16 16:00:00',\n",
              " '2021-08-17 10:00:00',\n",
              " '2021-08-17 11:00:00',\n",
              " '2021-08-17 12:00:00',\n",
              " '2021-08-17 13:00:00',\n",
              " '2021-08-17 14:00:00',\n",
              " '2021-08-17 15:00:00',\n",
              " '2021-08-17 16:00:00',\n",
              " '2021-08-18 10:00:00',\n",
              " '2021-08-18 11:00:00',\n",
              " '2021-08-18 12:00:00',\n",
              " '2021-08-18 13:00:00',\n",
              " '2021-08-18 14:00:00',\n",
              " '2021-08-18 15:00:00',\n",
              " '2021-08-18 16:00:00',\n",
              " '2021-08-19 10:00:00',\n",
              " '2021-08-19 11:00:00',\n",
              " '2021-08-19 12:00:00',\n",
              " '2021-08-19 13:00:00',\n",
              " '2021-08-19 14:00:00',\n",
              " '2021-08-19 15:00:00',\n",
              " '2021-08-19 16:00:00',\n",
              " '2021-08-20 10:00:00',\n",
              " '2021-08-20 11:00:00',\n",
              " '2021-08-20 12:00:00',\n",
              " '2021-08-20 13:00:00',\n",
              " '2021-08-20 14:00:00',\n",
              " '2021-08-20 15:00:00',\n",
              " '2021-08-20 16:00:00']"
            ]
          },
          "metadata": {},
          "execution_count": 83
        }
      ]
    },
    {
      "cell_type": "code",
      "metadata": {
        "colab": {
          "base_uri": "https://localhost:8080/",
          "height": 203
        },
        "id": "Xot7zcgEK6my",
        "outputId": "9b9f2d3c-f890-4019-b71a-c062dc238eb2"
      },
      "source": [
        "#reseting index\n",
        "petr4 = petr4.reset_index()\n",
        "petr4.head()"
      ],
      "execution_count": 84,
      "outputs": [
        {
          "output_type": "execute_result",
          "data": {
            "text/html": [
              "<div>\n",
              "<style scoped>\n",
              "    .dataframe tbody tr th:only-of-type {\n",
              "        vertical-align: middle;\n",
              "    }\n",
              "\n",
              "    .dataframe tbody tr th {\n",
              "        vertical-align: top;\n",
              "    }\n",
              "\n",
              "    .dataframe thead th {\n",
              "        text-align: right;\n",
              "    }\n",
              "</style>\n",
              "<table border=\"1\" class=\"dataframe\">\n",
              "  <thead>\n",
              "    <tr style=\"text-align: right;\">\n",
              "      <th></th>\n",
              "      <th>Datetime</th>\n",
              "      <th>Open</th>\n",
              "      <th>High</th>\n",
              "      <th>Low</th>\n",
              "      <th>Close</th>\n",
              "      <th>Volume</th>\n",
              "    </tr>\n",
              "  </thead>\n",
              "  <tbody>\n",
              "    <tr>\n",
              "      <th>0</th>\n",
              "      <td>2021-07-21 10:00:00-03:00</td>\n",
              "      <td>26.790001</td>\n",
              "      <td>27.059999</td>\n",
              "      <td>26.590000</td>\n",
              "      <td>27.049999</td>\n",
              "      <td>0</td>\n",
              "    </tr>\n",
              "    <tr>\n",
              "      <th>1</th>\n",
              "      <td>2021-07-21 11:00:00-03:00</td>\n",
              "      <td>27.059999</td>\n",
              "      <td>27.129999</td>\n",
              "      <td>26.820000</td>\n",
              "      <td>26.990000</td>\n",
              "      <td>10544700</td>\n",
              "    </tr>\n",
              "    <tr>\n",
              "      <th>2</th>\n",
              "      <td>2021-07-21 12:00:00-03:00</td>\n",
              "      <td>26.990000</td>\n",
              "      <td>27.180000</td>\n",
              "      <td>26.959999</td>\n",
              "      <td>27.110001</td>\n",
              "      <td>4462900</td>\n",
              "    </tr>\n",
              "    <tr>\n",
              "      <th>3</th>\n",
              "      <td>2021-07-21 13:00:00-03:00</td>\n",
              "      <td>27.120001</td>\n",
              "      <td>27.240000</td>\n",
              "      <td>27.059999</td>\n",
              "      <td>27.150000</td>\n",
              "      <td>3920300</td>\n",
              "    </tr>\n",
              "    <tr>\n",
              "      <th>4</th>\n",
              "      <td>2021-07-21 14:00:00-03:00</td>\n",
              "      <td>27.139999</td>\n",
              "      <td>27.240000</td>\n",
              "      <td>27.059999</td>\n",
              "      <td>27.080000</td>\n",
              "      <td>4399900</td>\n",
              "    </tr>\n",
              "  </tbody>\n",
              "</table>\n",
              "</div>"
            ],
            "text/plain": [
              "                   Datetime       Open  ...      Close    Volume\n",
              "0 2021-07-21 10:00:00-03:00  26.790001  ...  27.049999         0\n",
              "1 2021-07-21 11:00:00-03:00  27.059999  ...  26.990000  10544700\n",
              "2 2021-07-21 12:00:00-03:00  26.990000  ...  27.110001   4462900\n",
              "3 2021-07-21 13:00:00-03:00  27.120001  ...  27.150000   3920300\n",
              "4 2021-07-21 14:00:00-03:00  27.139999  ...  27.080000   4399900\n",
              "\n",
              "[5 rows x 6 columns]"
            ]
          },
          "metadata": {},
          "execution_count": 84
        }
      ]
    },
    {
      "cell_type": "code",
      "metadata": {
        "colab": {
          "base_uri": "https://localhost:8080/",
          "height": 203
        },
        "id": "GcqU0cDzMJaD",
        "outputId": "f633c8df-4dbc-4f78-cd5a-788a18acf831"
      },
      "source": [
        "# dropping index\n",
        "petr4 = petr4.drop('Datetime', axis=1)\n",
        "petr4.head()"
      ],
      "execution_count": 85,
      "outputs": [
        {
          "output_type": "execute_result",
          "data": {
            "text/html": [
              "<div>\n",
              "<style scoped>\n",
              "    .dataframe tbody tr th:only-of-type {\n",
              "        vertical-align: middle;\n",
              "    }\n",
              "\n",
              "    .dataframe tbody tr th {\n",
              "        vertical-align: top;\n",
              "    }\n",
              "\n",
              "    .dataframe thead th {\n",
              "        text-align: right;\n",
              "    }\n",
              "</style>\n",
              "<table border=\"1\" class=\"dataframe\">\n",
              "  <thead>\n",
              "    <tr style=\"text-align: right;\">\n",
              "      <th></th>\n",
              "      <th>Open</th>\n",
              "      <th>High</th>\n",
              "      <th>Low</th>\n",
              "      <th>Close</th>\n",
              "      <th>Volume</th>\n",
              "    </tr>\n",
              "  </thead>\n",
              "  <tbody>\n",
              "    <tr>\n",
              "      <th>0</th>\n",
              "      <td>26.790001</td>\n",
              "      <td>27.059999</td>\n",
              "      <td>26.590000</td>\n",
              "      <td>27.049999</td>\n",
              "      <td>0</td>\n",
              "    </tr>\n",
              "    <tr>\n",
              "      <th>1</th>\n",
              "      <td>27.059999</td>\n",
              "      <td>27.129999</td>\n",
              "      <td>26.820000</td>\n",
              "      <td>26.990000</td>\n",
              "      <td>10544700</td>\n",
              "    </tr>\n",
              "    <tr>\n",
              "      <th>2</th>\n",
              "      <td>26.990000</td>\n",
              "      <td>27.180000</td>\n",
              "      <td>26.959999</td>\n",
              "      <td>27.110001</td>\n",
              "      <td>4462900</td>\n",
              "    </tr>\n",
              "    <tr>\n",
              "      <th>3</th>\n",
              "      <td>27.120001</td>\n",
              "      <td>27.240000</td>\n",
              "      <td>27.059999</td>\n",
              "      <td>27.150000</td>\n",
              "      <td>3920300</td>\n",
              "    </tr>\n",
              "    <tr>\n",
              "      <th>4</th>\n",
              "      <td>27.139999</td>\n",
              "      <td>27.240000</td>\n",
              "      <td>27.059999</td>\n",
              "      <td>27.080000</td>\n",
              "      <td>4399900</td>\n",
              "    </tr>\n",
              "  </tbody>\n",
              "</table>\n",
              "</div>"
            ],
            "text/plain": [
              "        Open       High        Low      Close    Volume\n",
              "0  26.790001  27.059999  26.590000  27.049999         0\n",
              "1  27.059999  27.129999  26.820000  26.990000  10544700\n",
              "2  26.990000  27.180000  26.959999  27.110001   4462900\n",
              "3  27.120001  27.240000  27.059999  27.150000   3920300\n",
              "4  27.139999  27.240000  27.059999  27.080000   4399900"
            ]
          },
          "metadata": {},
          "execution_count": 85
        }
      ]
    },
    {
      "cell_type": "code",
      "metadata": {
        "colab": {
          "base_uri": "https://localhost:8080/"
        },
        "id": "UOs1DjT9MPRB",
        "outputId": "6b79aabd-be4b-476a-cf72-92d4d92c8b83"
      },
      "source": [
        "#creating a data frame, renaming and converting it to pandas timestamp\n",
        "new_index = pd.DataFrame(new_index)\n",
        "new_index = new_index.rename(columns={0:'Datetime'})\n",
        "new_index = pd.to_datetime(new_index['Datetime'])\n",
        "type(new_index[0])"
      ],
      "execution_count": 98,
      "outputs": [
        {
          "output_type": "execute_result",
          "data": {
            "text/plain": [
              "pandas._libs.tslibs.timestamps.Timestamp"
            ]
          },
          "metadata": {},
          "execution_count": 98
        }
      ]
    },
    {
      "cell_type": "code",
      "metadata": {
        "colab": {
          "base_uri": "https://localhost:8080/",
          "height": 234
        },
        "id": "t9oSYINEMguK",
        "outputId": "7f247b2c-36d8-4fb9-b465-a07ee792c9ce"
      },
      "source": [
        "#joing and setting Datetime as index\n",
        "petr4 = petr4.join(new_index, how='right')\n",
        "petr4 = petr4.set_index('Datetime')\n",
        "petr4.head()"
      ],
      "execution_count": 106,
      "outputs": [
        {
          "output_type": "execute_result",
          "data": {
            "text/html": [
              "<div>\n",
              "<style scoped>\n",
              "    .dataframe tbody tr th:only-of-type {\n",
              "        vertical-align: middle;\n",
              "    }\n",
              "\n",
              "    .dataframe tbody tr th {\n",
              "        vertical-align: top;\n",
              "    }\n",
              "\n",
              "    .dataframe thead th {\n",
              "        text-align: right;\n",
              "    }\n",
              "</style>\n",
              "<table border=\"1\" class=\"dataframe\">\n",
              "  <thead>\n",
              "    <tr style=\"text-align: right;\">\n",
              "      <th></th>\n",
              "      <th>Open</th>\n",
              "      <th>High</th>\n",
              "      <th>Low</th>\n",
              "      <th>Close</th>\n",
              "      <th>Volume</th>\n",
              "    </tr>\n",
              "    <tr>\n",
              "      <th>Datetime</th>\n",
              "      <th></th>\n",
              "      <th></th>\n",
              "      <th></th>\n",
              "      <th></th>\n",
              "      <th></th>\n",
              "    </tr>\n",
              "  </thead>\n",
              "  <tbody>\n",
              "    <tr>\n",
              "      <th>2021-07-21 10:00:00</th>\n",
              "      <td>26.790001</td>\n",
              "      <td>27.059999</td>\n",
              "      <td>26.590000</td>\n",
              "      <td>27.049999</td>\n",
              "      <td>0</td>\n",
              "    </tr>\n",
              "    <tr>\n",
              "      <th>2021-07-21 11:00:00</th>\n",
              "      <td>27.059999</td>\n",
              "      <td>27.129999</td>\n",
              "      <td>26.820000</td>\n",
              "      <td>26.990000</td>\n",
              "      <td>10544700</td>\n",
              "    </tr>\n",
              "    <tr>\n",
              "      <th>2021-07-21 12:00:00</th>\n",
              "      <td>26.990000</td>\n",
              "      <td>27.180000</td>\n",
              "      <td>26.959999</td>\n",
              "      <td>27.110001</td>\n",
              "      <td>4462900</td>\n",
              "    </tr>\n",
              "    <tr>\n",
              "      <th>2021-07-21 13:00:00</th>\n",
              "      <td>27.120001</td>\n",
              "      <td>27.240000</td>\n",
              "      <td>27.059999</td>\n",
              "      <td>27.150000</td>\n",
              "      <td>3920300</td>\n",
              "    </tr>\n",
              "    <tr>\n",
              "      <th>2021-07-21 14:00:00</th>\n",
              "      <td>27.139999</td>\n",
              "      <td>27.240000</td>\n",
              "      <td>27.059999</td>\n",
              "      <td>27.080000</td>\n",
              "      <td>4399900</td>\n",
              "    </tr>\n",
              "  </tbody>\n",
              "</table>\n",
              "</div>"
            ],
            "text/plain": [
              "                          Open       High        Low      Close    Volume\n",
              "Datetime                                                                 \n",
              "2021-07-21 10:00:00  26.790001  27.059999  26.590000  27.049999         0\n",
              "2021-07-21 11:00:00  27.059999  27.129999  26.820000  26.990000  10544700\n",
              "2021-07-21 12:00:00  26.990000  27.180000  26.959999  27.110001   4462900\n",
              "2021-07-21 13:00:00  27.120001  27.240000  27.059999  27.150000   3920300\n",
              "2021-07-21 14:00:00  27.139999  27.240000  27.059999  27.080000   4399900"
            ]
          },
          "metadata": {},
          "execution_count": 106
        }
      ]
    },
    {
      "cell_type": "code",
      "metadata": {
        "id": "BUpjL1mLNYWC"
      },
      "source": [
        ""
      ],
      "execution_count": null,
      "outputs": []
    }
  ]
}