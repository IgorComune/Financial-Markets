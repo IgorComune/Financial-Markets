{
  "nbformat": 4,
  "nbformat_minor": 0,
  "metadata": {
    "colab": {
      "name": "financial_markets.ipynb",
      "provenance": [],
      "authorship_tag": "ABX9TyPjZBJqoGxtFlWdFSQkKF5Z",
      "include_colab_link": true
    },
    "kernelspec": {
      "name": "python3",
      "display_name": "Python 3"
    },
    "language_info": {
      "name": "python"
    }
  },
  "cells": [
    {
      "cell_type": "markdown",
      "metadata": {
        "id": "view-in-github",
        "colab_type": "text"
      },
      "source": [
        "<a href=\"https://colab.research.google.com/github/IgorComune/Financial-Markets/blob/main/financial_markets.ipynb\" target=\"_parent\"><img src=\"https://colab.research.google.com/assets/colab-badge.svg\" alt=\"Open In Colab\"/></a>"
      ]
    },
    {
      "cell_type": "markdown",
      "metadata": {
        "id": "gHKgwqBgwAet"
      },
      "source": [
        "#Installations"
      ]
    },
    {
      "cell_type": "code",
      "metadata": {
        "id": "R6j9kedbv-o5"
      },
      "source": [
        "pip install investpy"
      ],
      "execution_count": null,
      "outputs": []
    },
    {
      "cell_type": "code",
      "metadata": {
        "id": "wt5KUxqw3BuT"
      },
      "source": [
        "pip install yfinance"
      ],
      "execution_count": null,
      "outputs": []
    },
    {
      "cell_type": "markdown",
      "metadata": {
        "id": "oa--64xBvt1v"
      },
      "source": [
        "#Libraries"
      ]
    },
    {
      "cell_type": "code",
      "metadata": {
        "id": "a0f8ehkDvsv3"
      },
      "source": [
        "import pandas as pd\n",
        "import numpy as np\n",
        "import matplotlib.pyplot as plt\n",
        "import datetime as dt\n",
        "\n",
        "#data retrieving\n",
        "import investpy\n",
        "import yfinance as yf"
      ],
      "execution_count": 49,
      "outputs": []
    },
    {
      "cell_type": "markdown",
      "metadata": {
        "id": "9osV3N69wOne"
      },
      "source": [
        "#Data Retrieving"
      ]
    },
    {
      "cell_type": "markdown",
      "metadata": {
        "id": "uLwIUCTR3Lxj"
      },
      "source": [
        "## InvestPy"
      ]
    },
    {
      "cell_type": "code",
      "metadata": {
        "colab": {
          "base_uri": "https://localhost:8080/"
        },
        "id": "B-EBVjriwQ48",
        "outputId": "c418c47d-324c-4fc3-f283-9222ae621cc2"
      },
      "source": [
        "df = investpy.get_stock_historical_data(stock='AAPL',\n",
        "                                        country='United States',\n",
        "                                        from_date='01/01/2019',\n",
        "                                        to_date='01/01/2020',)\n",
        "df.head()"
      ],
      "execution_count": 9,
      "outputs": [
        {
          "output_type": "stream",
          "text": [
            "             Open   High    Low  Close     Volume Currency\n",
            "Date                                                      \n",
            "2019-01-02  38.72  39.71  38.56  39.48  148158944      USD\n",
            "2019-01-03  35.99  36.43  35.50  35.55  365248768      USD\n",
            "2019-01-04  36.13  37.14  35.95  37.06  234428288      USD\n",
            "2019-01-07  37.17  37.21  36.48  36.98  219111056      USD\n",
            "2019-01-08  37.39  37.95  37.13  37.69  164101248      USD\n"
          ],
          "name": "stdout"
        }
      ]
    },
    {
      "cell_type": "code",
      "metadata": {
        "colab": {
          "base_uri": "https://localhost:8080/",
          "height": 234
        },
        "id": "yQAKRp1_zuHA",
        "outputId": "e8f34109-a088-4581-a63c-9a7804565cad"
      },
      "source": [
        "petr4 = investpy.get_stock_historical_data(stock='PETR4',\n",
        "                                        country='Brazil',\n",
        "                                        from_date='01/01/2015',\n",
        "                                        to_date='15/08/2021',\n",
        "                                        interval='Daily')\n",
        "df.head()"
      ],
      "execution_count": 8,
      "outputs": [
        {
          "output_type": "execute_result",
          "data": {
            "text/html": [
              "<div>\n",
              "<style scoped>\n",
              "    .dataframe tbody tr th:only-of-type {\n",
              "        vertical-align: middle;\n",
              "    }\n",
              "\n",
              "    .dataframe tbody tr th {\n",
              "        vertical-align: top;\n",
              "    }\n",
              "\n",
              "    .dataframe thead th {\n",
              "        text-align: right;\n",
              "    }\n",
              "</style>\n",
              "<table border=\"1\" class=\"dataframe\">\n",
              "  <thead>\n",
              "    <tr style=\"text-align: right;\">\n",
              "      <th></th>\n",
              "      <th>Open</th>\n",
              "      <th>High</th>\n",
              "      <th>Low</th>\n",
              "      <th>Close</th>\n",
              "      <th>Volume</th>\n",
              "      <th>Currency</th>\n",
              "    </tr>\n",
              "    <tr>\n",
              "      <th>Date</th>\n",
              "      <th></th>\n",
              "      <th></th>\n",
              "      <th></th>\n",
              "      <th></th>\n",
              "      <th></th>\n",
              "      <th></th>\n",
              "    </tr>\n",
              "  </thead>\n",
              "  <tbody>\n",
              "    <tr>\n",
              "      <th>2015-01-02</th>\n",
              "      <td>9.58</td>\n",
              "      <td>9.58</td>\n",
              "      <td>8.98</td>\n",
              "      <td>8.98</td>\n",
              "      <td>48211700</td>\n",
              "      <td>BRL</td>\n",
              "    </tr>\n",
              "    <tr>\n",
              "      <th>2015-01-05</th>\n",
              "      <td>8.77</td>\n",
              "      <td>8.82</td>\n",
              "      <td>8.23</td>\n",
              "      <td>8.26</td>\n",
              "      <td>73379000</td>\n",
              "      <td>BRL</td>\n",
              "    </tr>\n",
              "    <tr>\n",
              "      <th>2015-01-06</th>\n",
              "      <td>8.36</td>\n",
              "      <td>8.47</td>\n",
              "      <td>7.71</td>\n",
              "      <td>7.99</td>\n",
              "      <td>81380800</td>\n",
              "      <td>BRL</td>\n",
              "    </tr>\n",
              "    <tr>\n",
              "      <th>2015-01-07</th>\n",
              "      <td>8.21</td>\n",
              "      <td>8.38</td>\n",
              "      <td>8.02</td>\n",
              "      <td>8.32</td>\n",
              "      <td>83759696</td>\n",
              "      <td>BRL</td>\n",
              "    </tr>\n",
              "    <tr>\n",
              "      <th>2015-01-08</th>\n",
              "      <td>8.43</td>\n",
              "      <td>9.01</td>\n",
              "      <td>8.38</td>\n",
              "      <td>8.81</td>\n",
              "      <td>81986600</td>\n",
              "      <td>BRL</td>\n",
              "    </tr>\n",
              "  </tbody>\n",
              "</table>\n",
              "</div>"
            ],
            "text/plain": [
              "            Open  High   Low  Close    Volume Currency\n",
              "Date                                                  \n",
              "2015-01-02  9.58  9.58  8.98   8.98  48211700      BRL\n",
              "2015-01-05  8.77  8.82  8.23   8.26  73379000      BRL\n",
              "2015-01-06  8.36  8.47  7.71   7.99  81380800      BRL\n",
              "2015-01-07  8.21  8.38  8.02   8.32  83759696      BRL\n",
              "2015-01-08  8.43  9.01  8.38   8.81  81986600      BRL"
            ]
          },
          "metadata": {},
          "execution_count": 8
        }
      ]
    },
    {
      "cell_type": "markdown",
      "metadata": {
        "id": "jl2UUtKI9mvw"
      },
      "source": [
        "## Yahoo Finance"
      ]
    },
    {
      "cell_type": "code",
      "metadata": {
        "colab": {
          "base_uri": "https://localhost:8080/",
          "height": 234
        },
        "id": "4J0fs5AM3Qa8",
        "outputId": "27cfed1a-bade-47bc-d735-5a9fa8213167"
      },
      "source": [
        "petr4 = yf.Ticker('PETR4.SA')\n",
        "petr4 = petr4.history(interval='60m')\n",
        "petr4.head()"
      ],
      "execution_count": 137,
      "outputs": [
        {
          "output_type": "execute_result",
          "data": {
            "text/html": [
              "<div>\n",
              "<style scoped>\n",
              "    .dataframe tbody tr th:only-of-type {\n",
              "        vertical-align: middle;\n",
              "    }\n",
              "\n",
              "    .dataframe tbody tr th {\n",
              "        vertical-align: top;\n",
              "    }\n",
              "\n",
              "    .dataframe thead th {\n",
              "        text-align: right;\n",
              "    }\n",
              "</style>\n",
              "<table border=\"1\" class=\"dataframe\">\n",
              "  <thead>\n",
              "    <tr style=\"text-align: right;\">\n",
              "      <th></th>\n",
              "      <th>Open</th>\n",
              "      <th>High</th>\n",
              "      <th>Low</th>\n",
              "      <th>Close</th>\n",
              "      <th>Volume</th>\n",
              "      <th>Dividends</th>\n",
              "      <th>Stock Splits</th>\n",
              "    </tr>\n",
              "    <tr>\n",
              "      <th>Datetime</th>\n",
              "      <th></th>\n",
              "      <th></th>\n",
              "      <th></th>\n",
              "      <th></th>\n",
              "      <th></th>\n",
              "      <th></th>\n",
              "      <th></th>\n",
              "    </tr>\n",
              "  </thead>\n",
              "  <tbody>\n",
              "    <tr>\n",
              "      <th>2021-07-21 10:00:00-03:00</th>\n",
              "      <td>26.790001</td>\n",
              "      <td>27.059999</td>\n",
              "      <td>26.590000</td>\n",
              "      <td>27.049999</td>\n",
              "      <td>0</td>\n",
              "      <td>0.0</td>\n",
              "      <td>0</td>\n",
              "    </tr>\n",
              "    <tr>\n",
              "      <th>2021-07-21 11:00:00-03:00</th>\n",
              "      <td>27.059999</td>\n",
              "      <td>27.129999</td>\n",
              "      <td>26.820000</td>\n",
              "      <td>26.990000</td>\n",
              "      <td>10544700</td>\n",
              "      <td>0.0</td>\n",
              "      <td>0</td>\n",
              "    </tr>\n",
              "    <tr>\n",
              "      <th>2021-07-21 12:00:00-03:00</th>\n",
              "      <td>26.990000</td>\n",
              "      <td>27.180000</td>\n",
              "      <td>26.959999</td>\n",
              "      <td>27.110001</td>\n",
              "      <td>4462900</td>\n",
              "      <td>0.0</td>\n",
              "      <td>0</td>\n",
              "    </tr>\n",
              "    <tr>\n",
              "      <th>2021-07-21 13:00:00-03:00</th>\n",
              "      <td>27.120001</td>\n",
              "      <td>27.240000</td>\n",
              "      <td>27.059999</td>\n",
              "      <td>27.150000</td>\n",
              "      <td>3920300</td>\n",
              "      <td>0.0</td>\n",
              "      <td>0</td>\n",
              "    </tr>\n",
              "    <tr>\n",
              "      <th>2021-07-21 14:00:00-03:00</th>\n",
              "      <td>27.139999</td>\n",
              "      <td>27.240000</td>\n",
              "      <td>27.059999</td>\n",
              "      <td>27.080000</td>\n",
              "      <td>4399900</td>\n",
              "      <td>0.0</td>\n",
              "      <td>0</td>\n",
              "    </tr>\n",
              "  </tbody>\n",
              "</table>\n",
              "</div>"
            ],
            "text/plain": [
              "                                Open       High  ...  Dividends  Stock Splits\n",
              "Datetime                                         ...                         \n",
              "2021-07-21 10:00:00-03:00  26.790001  27.059999  ...        0.0             0\n",
              "2021-07-21 11:00:00-03:00  27.059999  27.129999  ...        0.0             0\n",
              "2021-07-21 12:00:00-03:00  26.990000  27.180000  ...        0.0             0\n",
              "2021-07-21 13:00:00-03:00  27.120001  27.240000  ...        0.0             0\n",
              "2021-07-21 14:00:00-03:00  27.139999  27.240000  ...        0.0             0\n",
              "\n",
              "[5 rows x 7 columns]"
            ]
          },
          "metadata": {},
          "execution_count": 137
        }
      ]
    },
    {
      "cell_type": "markdown",
      "metadata": {
        "id": "S4jt7wWa7Bwx"
      },
      "source": [
        "## The Dataset"
      ]
    },
    {
      "cell_type": "code",
      "metadata": {
        "id": "KMT7L01l620y"
      },
      "source": [
        "#setting the display of rows in the data frames\n",
        "pd.set_option('display.max_rows', 10)"
      ],
      "execution_count": 138,
      "outputs": []
    },
    {
      "cell_type": "code",
      "metadata": {
        "colab": {
          "base_uri": "https://localhost:8080/",
          "height": 234
        },
        "id": "-8siHq6Z-qZp",
        "outputId": "01c4afb1-702f-4914-fea3-65fd2ebbc5d2"
      },
      "source": [
        "#dropping two columns\n",
        "petr4 = petr4.drop(labels=['Dividends', 'Stock Splits'], axis=1)\n",
        "petr4.head()"
      ],
      "execution_count": 139,
      "outputs": [
        {
          "output_type": "execute_result",
          "data": {
            "text/html": [
              "<div>\n",
              "<style scoped>\n",
              "    .dataframe tbody tr th:only-of-type {\n",
              "        vertical-align: middle;\n",
              "    }\n",
              "\n",
              "    .dataframe tbody tr th {\n",
              "        vertical-align: top;\n",
              "    }\n",
              "\n",
              "    .dataframe thead th {\n",
              "        text-align: right;\n",
              "    }\n",
              "</style>\n",
              "<table border=\"1\" class=\"dataframe\">\n",
              "  <thead>\n",
              "    <tr style=\"text-align: right;\">\n",
              "      <th></th>\n",
              "      <th>Open</th>\n",
              "      <th>High</th>\n",
              "      <th>Low</th>\n",
              "      <th>Close</th>\n",
              "      <th>Volume</th>\n",
              "    </tr>\n",
              "    <tr>\n",
              "      <th>Datetime</th>\n",
              "      <th></th>\n",
              "      <th></th>\n",
              "      <th></th>\n",
              "      <th></th>\n",
              "      <th></th>\n",
              "    </tr>\n",
              "  </thead>\n",
              "  <tbody>\n",
              "    <tr>\n",
              "      <th>2021-07-21 10:00:00-03:00</th>\n",
              "      <td>26.790001</td>\n",
              "      <td>27.059999</td>\n",
              "      <td>26.590000</td>\n",
              "      <td>27.049999</td>\n",
              "      <td>0</td>\n",
              "    </tr>\n",
              "    <tr>\n",
              "      <th>2021-07-21 11:00:00-03:00</th>\n",
              "      <td>27.059999</td>\n",
              "      <td>27.129999</td>\n",
              "      <td>26.820000</td>\n",
              "      <td>26.990000</td>\n",
              "      <td>10544700</td>\n",
              "    </tr>\n",
              "    <tr>\n",
              "      <th>2021-07-21 12:00:00-03:00</th>\n",
              "      <td>26.990000</td>\n",
              "      <td>27.180000</td>\n",
              "      <td>26.959999</td>\n",
              "      <td>27.110001</td>\n",
              "      <td>4462900</td>\n",
              "    </tr>\n",
              "    <tr>\n",
              "      <th>2021-07-21 13:00:00-03:00</th>\n",
              "      <td>27.120001</td>\n",
              "      <td>27.240000</td>\n",
              "      <td>27.059999</td>\n",
              "      <td>27.150000</td>\n",
              "      <td>3920300</td>\n",
              "    </tr>\n",
              "    <tr>\n",
              "      <th>2021-07-21 14:00:00-03:00</th>\n",
              "      <td>27.139999</td>\n",
              "      <td>27.240000</td>\n",
              "      <td>27.059999</td>\n",
              "      <td>27.080000</td>\n",
              "      <td>4399900</td>\n",
              "    </tr>\n",
              "  </tbody>\n",
              "</table>\n",
              "</div>"
            ],
            "text/plain": [
              "                                Open       High        Low      Close    Volume\n",
              "Datetime                                                                       \n",
              "2021-07-21 10:00:00-03:00  26.790001  27.059999  26.590000  27.049999         0\n",
              "2021-07-21 11:00:00-03:00  27.059999  27.129999  26.820000  26.990000  10544700\n",
              "2021-07-21 12:00:00-03:00  26.990000  27.180000  26.959999  27.110001   4462900\n",
              "2021-07-21 13:00:00-03:00  27.120001  27.240000  27.059999  27.150000   3920300\n",
              "2021-07-21 14:00:00-03:00  27.139999  27.240000  27.059999  27.080000   4399900"
            ]
          },
          "metadata": {},
          "execution_count": 139
        }
      ]
    },
    {
      "cell_type": "code",
      "metadata": {
        "colab": {
          "base_uri": "https://localhost:8080/",
          "height": 447
        },
        "id": "h6Gb25LgJNq0",
        "outputId": "b8139be3-360f-4496-e4a1-73b86c5d30ba"
      },
      "source": [
        "#all the dataset\n",
        "petr4"
      ],
      "execution_count": 140,
      "outputs": [
        {
          "output_type": "execute_result",
          "data": {
            "text/html": [
              "<div>\n",
              "<style scoped>\n",
              "    .dataframe tbody tr th:only-of-type {\n",
              "        vertical-align: middle;\n",
              "    }\n",
              "\n",
              "    .dataframe tbody tr th {\n",
              "        vertical-align: top;\n",
              "    }\n",
              "\n",
              "    .dataframe thead th {\n",
              "        text-align: right;\n",
              "    }\n",
              "</style>\n",
              "<table border=\"1\" class=\"dataframe\">\n",
              "  <thead>\n",
              "    <tr style=\"text-align: right;\">\n",
              "      <th></th>\n",
              "      <th>Open</th>\n",
              "      <th>High</th>\n",
              "      <th>Low</th>\n",
              "      <th>Close</th>\n",
              "      <th>Volume</th>\n",
              "    </tr>\n",
              "    <tr>\n",
              "      <th>Datetime</th>\n",
              "      <th></th>\n",
              "      <th></th>\n",
              "      <th></th>\n",
              "      <th></th>\n",
              "      <th></th>\n",
              "    </tr>\n",
              "  </thead>\n",
              "  <tbody>\n",
              "    <tr>\n",
              "      <th>2021-07-21 10:00:00-03:00</th>\n",
              "      <td>26.790001</td>\n",
              "      <td>27.059999</td>\n",
              "      <td>26.590000</td>\n",
              "      <td>27.049999</td>\n",
              "      <td>0</td>\n",
              "    </tr>\n",
              "    <tr>\n",
              "      <th>2021-07-21 11:00:00-03:00</th>\n",
              "      <td>27.059999</td>\n",
              "      <td>27.129999</td>\n",
              "      <td>26.820000</td>\n",
              "      <td>26.990000</td>\n",
              "      <td>10544700</td>\n",
              "    </tr>\n",
              "    <tr>\n",
              "      <th>2021-07-21 12:00:00-03:00</th>\n",
              "      <td>26.990000</td>\n",
              "      <td>27.180000</td>\n",
              "      <td>26.959999</td>\n",
              "      <td>27.110001</td>\n",
              "      <td>4462900</td>\n",
              "    </tr>\n",
              "    <tr>\n",
              "      <th>2021-07-21 13:00:00-03:00</th>\n",
              "      <td>27.120001</td>\n",
              "      <td>27.240000</td>\n",
              "      <td>27.059999</td>\n",
              "      <td>27.150000</td>\n",
              "      <td>3920300</td>\n",
              "    </tr>\n",
              "    <tr>\n",
              "      <th>2021-07-21 14:00:00-03:00</th>\n",
              "      <td>27.139999</td>\n",
              "      <td>27.240000</td>\n",
              "      <td>27.059999</td>\n",
              "      <td>27.080000</td>\n",
              "      <td>4399900</td>\n",
              "    </tr>\n",
              "    <tr>\n",
              "      <th>...</th>\n",
              "      <td>...</td>\n",
              "      <td>...</td>\n",
              "      <td>...</td>\n",
              "      <td>...</td>\n",
              "      <td>...</td>\n",
              "    </tr>\n",
              "    <tr>\n",
              "      <th>2021-08-20 12:00:00-03:00</th>\n",
              "      <td>26.309999</td>\n",
              "      <td>26.450001</td>\n",
              "      <td>26.299999</td>\n",
              "      <td>26.440001</td>\n",
              "      <td>5757200</td>\n",
              "    </tr>\n",
              "    <tr>\n",
              "      <th>2021-08-20 13:00:00-03:00</th>\n",
              "      <td>26.450001</td>\n",
              "      <td>26.580000</td>\n",
              "      <td>26.440001</td>\n",
              "      <td>26.559999</td>\n",
              "      <td>6686500</td>\n",
              "    </tr>\n",
              "    <tr>\n",
              "      <th>2021-08-20 14:00:00-03:00</th>\n",
              "      <td>26.549999</td>\n",
              "      <td>26.559999</td>\n",
              "      <td>26.309999</td>\n",
              "      <td>26.330000</td>\n",
              "      <td>6301100</td>\n",
              "    </tr>\n",
              "    <tr>\n",
              "      <th>2021-08-20 15:00:00-03:00</th>\n",
              "      <td>26.340000</td>\n",
              "      <td>26.430000</td>\n",
              "      <td>26.299999</td>\n",
              "      <td>26.340000</td>\n",
              "      <td>5482800</td>\n",
              "    </tr>\n",
              "    <tr>\n",
              "      <th>2021-08-20 16:00:00-03:00</th>\n",
              "      <td>26.350000</td>\n",
              "      <td>26.620001</td>\n",
              "      <td>26.290001</td>\n",
              "      <td>26.600000</td>\n",
              "      <td>25890000</td>\n",
              "    </tr>\n",
              "  </tbody>\n",
              "</table>\n",
              "<p>161 rows × 5 columns</p>\n",
              "</div>"
            ],
            "text/plain": [
              "                                Open       High        Low      Close    Volume\n",
              "Datetime                                                                       \n",
              "2021-07-21 10:00:00-03:00  26.790001  27.059999  26.590000  27.049999         0\n",
              "2021-07-21 11:00:00-03:00  27.059999  27.129999  26.820000  26.990000  10544700\n",
              "2021-07-21 12:00:00-03:00  26.990000  27.180000  26.959999  27.110001   4462900\n",
              "2021-07-21 13:00:00-03:00  27.120001  27.240000  27.059999  27.150000   3920300\n",
              "2021-07-21 14:00:00-03:00  27.139999  27.240000  27.059999  27.080000   4399900\n",
              "...                              ...        ...        ...        ...       ...\n",
              "2021-08-20 12:00:00-03:00  26.309999  26.450001  26.299999  26.440001   5757200\n",
              "2021-08-20 13:00:00-03:00  26.450001  26.580000  26.440001  26.559999   6686500\n",
              "2021-08-20 14:00:00-03:00  26.549999  26.559999  26.309999  26.330000   6301100\n",
              "2021-08-20 15:00:00-03:00  26.340000  26.430000  26.299999  26.340000   5482800\n",
              "2021-08-20 16:00:00-03:00  26.350000  26.620001  26.290001  26.600000  25890000\n",
              "\n",
              "[161 rows x 5 columns]"
            ]
          },
          "metadata": {},
          "execution_count": 140
        }
      ]
    },
    {
      "cell_type": "code",
      "metadata": {
        "colab": {
          "base_uri": "https://localhost:8080/"
        },
        "id": "ejl_Thj_GJAA",
        "outputId": "0d8d3912-e4a2-489d-dcce-ac16fa971fd7"
      },
      "source": [
        "#checking the index\n",
        "petr4.index"
      ],
      "execution_count": 141,
      "outputs": [
        {
          "output_type": "execute_result",
          "data": {
            "text/plain": [
              "DatetimeIndex(['2021-07-21 10:00:00-03:00', '2021-07-21 11:00:00-03:00',\n",
              "               '2021-07-21 12:00:00-03:00', '2021-07-21 13:00:00-03:00',\n",
              "               '2021-07-21 14:00:00-03:00', '2021-07-21 15:00:00-03:00',\n",
              "               '2021-07-21 16:00:00-03:00', '2021-07-22 10:00:00-03:00',\n",
              "               '2021-07-22 11:00:00-03:00', '2021-07-22 12:00:00-03:00',\n",
              "               ...\n",
              "               '2021-08-19 14:00:00-03:00', '2021-08-19 15:00:00-03:00',\n",
              "               '2021-08-19 16:00:00-03:00', '2021-08-20 10:00:00-03:00',\n",
              "               '2021-08-20 11:00:00-03:00', '2021-08-20 12:00:00-03:00',\n",
              "               '2021-08-20 13:00:00-03:00', '2021-08-20 14:00:00-03:00',\n",
              "               '2021-08-20 15:00:00-03:00', '2021-08-20 16:00:00-03:00'],\n",
              "              dtype='datetime64[ns, America/Sao_Paulo]', name='Datetime', length=161, freq=None)"
            ]
          },
          "metadata": {},
          "execution_count": 141
        }
      ]
    },
    {
      "cell_type": "code",
      "metadata": {
        "colab": {
          "base_uri": "https://localhost:8080/"
        },
        "id": "CIHkuZjOGm1a",
        "outputId": "4ca43bc4-8807-41f6-e641-7aa8835c2aa0"
      },
      "source": [
        "#checking the datatype of the index\n",
        "type(petr4.index[0])"
      ],
      "execution_count": 142,
      "outputs": [
        {
          "output_type": "execute_result",
          "data": {
            "text/plain": [
              "pandas._libs.tslibs.timestamps.Timestamp"
            ]
          },
          "metadata": {},
          "execution_count": 142
        }
      ]
    },
    {
      "cell_type": "code",
      "metadata": {
        "colab": {
          "base_uri": "https://localhost:8080/"
        },
        "id": "s9zeE3WbJfKJ",
        "outputId": "ea0170e2-9633-4a31-9af5-b23cd95a1bc0"
      },
      "source": [
        "#converting index to string type\n",
        "index = petr4.index.astype(str)\n",
        "index"
      ],
      "execution_count": 143,
      "outputs": [
        {
          "output_type": "execute_result",
          "data": {
            "text/plain": [
              "Index(['2021-07-21 10:00:00-03:00', '2021-07-21 11:00:00-03:00',\n",
              "       '2021-07-21 12:00:00-03:00', '2021-07-21 13:00:00-03:00',\n",
              "       '2021-07-21 14:00:00-03:00', '2021-07-21 15:00:00-03:00',\n",
              "       '2021-07-21 16:00:00-03:00', '2021-07-22 10:00:00-03:00',\n",
              "       '2021-07-22 11:00:00-03:00', '2021-07-22 12:00:00-03:00',\n",
              "       ...\n",
              "       '2021-08-19 14:00:00-03:00', '2021-08-19 15:00:00-03:00',\n",
              "       '2021-08-19 16:00:00-03:00', '2021-08-20 10:00:00-03:00',\n",
              "       '2021-08-20 11:00:00-03:00', '2021-08-20 12:00:00-03:00',\n",
              "       '2021-08-20 13:00:00-03:00', '2021-08-20 14:00:00-03:00',\n",
              "       '2021-08-20 15:00:00-03:00', '2021-08-20 16:00:00-03:00'],\n",
              "      dtype='object', name='Datetime', length=161)"
            ]
          },
          "metadata": {},
          "execution_count": 143
        }
      ]
    },
    {
      "cell_type": "code",
      "metadata": {
        "colab": {
          "base_uri": "https://localhost:8080/"
        },
        "id": "uWWo1SElKGdL",
        "outputId": "27b50e78-9adc-4fca-afba-f95975815005"
      },
      "source": [
        "#selecting the length\n",
        "print(index[0][:10])\n",
        "print(index[0][11:13])"
      ],
      "execution_count": 144,
      "outputs": [
        {
          "output_type": "stream",
          "text": [
            "2021-07-21\n",
            "10\n"
          ],
          "name": "stdout"
        }
      ]
    },
    {
      "cell_type": "code",
      "metadata": {
        "id": "cKP4q-3YKqoK"
      },
      "source": [
        "#creating the new index\n",
        "date = []\n",
        "hour = []\n",
        "\n",
        "#slicing the string and appending it to the date and hour list\n",
        "for line in index:\n",
        "  date.append(line[:10])\n",
        "  hour.append(line[11:13])\n"
      ],
      "execution_count": 145,
      "outputs": []
    },
    {
      "cell_type": "code",
      "metadata": {
        "colab": {
          "base_uri": "https://localhost:8080/"
        },
        "id": "_Xjt0ru1RDeJ",
        "outputId": "06d935c8-8ebc-4ade-831c-abad0e7b5368"
      },
      "source": [
        "#both are returning strings\n",
        "print(type(date[0]))\n",
        "print(type(hour[0]))"
      ],
      "execution_count": 146,
      "outputs": [
        {
          "output_type": "stream",
          "text": [
            "<class 'str'>\n",
            "<class 'str'>\n"
          ],
          "name": "stdout"
        }
      ]
    },
    {
      "cell_type": "code",
      "metadata": {
        "colab": {
          "base_uri": "https://localhost:8080/",
          "height": 203
        },
        "id": "Xot7zcgEK6my",
        "outputId": "4a6172f8-ea51-4283-862a-2116819d3b71"
      },
      "source": [
        "#reseting index\n",
        "petr4 = petr4.reset_index()\n",
        "\n",
        "# dropping index\n",
        "petr4 = petr4.drop('Datetime', axis=1)\n",
        "petr4.head()"
      ],
      "execution_count": 147,
      "outputs": [
        {
          "output_type": "execute_result",
          "data": {
            "text/html": [
              "<div>\n",
              "<style scoped>\n",
              "    .dataframe tbody tr th:only-of-type {\n",
              "        vertical-align: middle;\n",
              "    }\n",
              "\n",
              "    .dataframe tbody tr th {\n",
              "        vertical-align: top;\n",
              "    }\n",
              "\n",
              "    .dataframe thead th {\n",
              "        text-align: right;\n",
              "    }\n",
              "</style>\n",
              "<table border=\"1\" class=\"dataframe\">\n",
              "  <thead>\n",
              "    <tr style=\"text-align: right;\">\n",
              "      <th></th>\n",
              "      <th>Open</th>\n",
              "      <th>High</th>\n",
              "      <th>Low</th>\n",
              "      <th>Close</th>\n",
              "      <th>Volume</th>\n",
              "    </tr>\n",
              "  </thead>\n",
              "  <tbody>\n",
              "    <tr>\n",
              "      <th>0</th>\n",
              "      <td>26.790001</td>\n",
              "      <td>27.059999</td>\n",
              "      <td>26.590000</td>\n",
              "      <td>27.049999</td>\n",
              "      <td>0</td>\n",
              "    </tr>\n",
              "    <tr>\n",
              "      <th>1</th>\n",
              "      <td>27.059999</td>\n",
              "      <td>27.129999</td>\n",
              "      <td>26.820000</td>\n",
              "      <td>26.990000</td>\n",
              "      <td>10544700</td>\n",
              "    </tr>\n",
              "    <tr>\n",
              "      <th>2</th>\n",
              "      <td>26.990000</td>\n",
              "      <td>27.180000</td>\n",
              "      <td>26.959999</td>\n",
              "      <td>27.110001</td>\n",
              "      <td>4462900</td>\n",
              "    </tr>\n",
              "    <tr>\n",
              "      <th>3</th>\n",
              "      <td>27.120001</td>\n",
              "      <td>27.240000</td>\n",
              "      <td>27.059999</td>\n",
              "      <td>27.150000</td>\n",
              "      <td>3920300</td>\n",
              "    </tr>\n",
              "    <tr>\n",
              "      <th>4</th>\n",
              "      <td>27.139999</td>\n",
              "      <td>27.240000</td>\n",
              "      <td>27.059999</td>\n",
              "      <td>27.080000</td>\n",
              "      <td>4399900</td>\n",
              "    </tr>\n",
              "  </tbody>\n",
              "</table>\n",
              "</div>"
            ],
            "text/plain": [
              "        Open       High        Low      Close    Volume\n",
              "0  26.790001  27.059999  26.590000  27.049999         0\n",
              "1  27.059999  27.129999  26.820000  26.990000  10544700\n",
              "2  26.990000  27.180000  26.959999  27.110001   4462900\n",
              "3  27.120001  27.240000  27.059999  27.150000   3920300\n",
              "4  27.139999  27.240000  27.059999  27.080000   4399900"
            ]
          },
          "metadata": {},
          "execution_count": 147
        }
      ]
    },
    {
      "cell_type": "code",
      "metadata": {
        "colab": {
          "base_uri": "https://localhost:8080/",
          "height": 417
        },
        "id": "UOs1DjT9MPRB",
        "outputId": "b2c6f6a5-ad07-4690-c1de-5cf552226d41"
      },
      "source": [
        "#creating a data frame, renaming and converting it to pandas timestamp\n",
        "new_index = pd.DataFrame(date, hour)\n",
        "new_index = new_index.reset_index()\n",
        "new_index = new_index.rename(columns={'index':'hour', 0:'date'})\n",
        "new_index"
      ],
      "execution_count": 172,
      "outputs": [
        {
          "output_type": "execute_result",
          "data": {
            "text/html": [
              "<div>\n",
              "<style scoped>\n",
              "    .dataframe tbody tr th:only-of-type {\n",
              "        vertical-align: middle;\n",
              "    }\n",
              "\n",
              "    .dataframe tbody tr th {\n",
              "        vertical-align: top;\n",
              "    }\n",
              "\n",
              "    .dataframe thead th {\n",
              "        text-align: right;\n",
              "    }\n",
              "</style>\n",
              "<table border=\"1\" class=\"dataframe\">\n",
              "  <thead>\n",
              "    <tr style=\"text-align: right;\">\n",
              "      <th></th>\n",
              "      <th>hour</th>\n",
              "      <th>date</th>\n",
              "    </tr>\n",
              "  </thead>\n",
              "  <tbody>\n",
              "    <tr>\n",
              "      <th>0</th>\n",
              "      <td>10</td>\n",
              "      <td>2021-07-21</td>\n",
              "    </tr>\n",
              "    <tr>\n",
              "      <th>1</th>\n",
              "      <td>11</td>\n",
              "      <td>2021-07-21</td>\n",
              "    </tr>\n",
              "    <tr>\n",
              "      <th>2</th>\n",
              "      <td>12</td>\n",
              "      <td>2021-07-21</td>\n",
              "    </tr>\n",
              "    <tr>\n",
              "      <th>3</th>\n",
              "      <td>13</td>\n",
              "      <td>2021-07-21</td>\n",
              "    </tr>\n",
              "    <tr>\n",
              "      <th>4</th>\n",
              "      <td>14</td>\n",
              "      <td>2021-07-21</td>\n",
              "    </tr>\n",
              "    <tr>\n",
              "      <th>...</th>\n",
              "      <td>...</td>\n",
              "      <td>...</td>\n",
              "    </tr>\n",
              "    <tr>\n",
              "      <th>156</th>\n",
              "      <td>12</td>\n",
              "      <td>2021-08-20</td>\n",
              "    </tr>\n",
              "    <tr>\n",
              "      <th>157</th>\n",
              "      <td>13</td>\n",
              "      <td>2021-08-20</td>\n",
              "    </tr>\n",
              "    <tr>\n",
              "      <th>158</th>\n",
              "      <td>14</td>\n",
              "      <td>2021-08-20</td>\n",
              "    </tr>\n",
              "    <tr>\n",
              "      <th>159</th>\n",
              "      <td>15</td>\n",
              "      <td>2021-08-20</td>\n",
              "    </tr>\n",
              "    <tr>\n",
              "      <th>160</th>\n",
              "      <td>16</td>\n",
              "      <td>2021-08-20</td>\n",
              "    </tr>\n",
              "  </tbody>\n",
              "</table>\n",
              "<p>161 rows × 2 columns</p>\n",
              "</div>"
            ],
            "text/plain": [
              "    hour        date\n",
              "0     10  2021-07-21\n",
              "1     11  2021-07-21\n",
              "2     12  2021-07-21\n",
              "3     13  2021-07-21\n",
              "4     14  2021-07-21\n",
              "..   ...         ...\n",
              "156   12  2021-08-20\n",
              "157   13  2021-08-20\n",
              "158   14  2021-08-20\n",
              "159   15  2021-08-20\n",
              "160   16  2021-08-20\n",
              "\n",
              "[161 rows x 2 columns]"
            ]
          },
          "metadata": {},
          "execution_count": 172
        }
      ]
    },
    {
      "cell_type": "code",
      "metadata": {
        "colab": {
          "base_uri": "https://localhost:8080/",
          "height": 417
        },
        "id": "t9oSYINEMguK",
        "outputId": "032cb89d-386f-4e15-e120-69d6583c06cf"
      },
      "source": [
        "petr4"
      ],
      "execution_count": 171,
      "outputs": [
        {
          "output_type": "execute_result",
          "data": {
            "text/html": [
              "<div>\n",
              "<style scoped>\n",
              "    .dataframe tbody tr th:only-of-type {\n",
              "        vertical-align: middle;\n",
              "    }\n",
              "\n",
              "    .dataframe tbody tr th {\n",
              "        vertical-align: top;\n",
              "    }\n",
              "\n",
              "    .dataframe thead th {\n",
              "        text-align: right;\n",
              "    }\n",
              "</style>\n",
              "<table border=\"1\" class=\"dataframe\">\n",
              "  <thead>\n",
              "    <tr style=\"text-align: right;\">\n",
              "      <th></th>\n",
              "      <th>Open</th>\n",
              "      <th>High</th>\n",
              "      <th>Low</th>\n",
              "      <th>Close</th>\n",
              "      <th>Volume</th>\n",
              "    </tr>\n",
              "  </thead>\n",
              "  <tbody>\n",
              "    <tr>\n",
              "      <th>0</th>\n",
              "      <td>26.790001</td>\n",
              "      <td>27.059999</td>\n",
              "      <td>26.590000</td>\n",
              "      <td>27.049999</td>\n",
              "      <td>0</td>\n",
              "    </tr>\n",
              "    <tr>\n",
              "      <th>1</th>\n",
              "      <td>27.059999</td>\n",
              "      <td>27.129999</td>\n",
              "      <td>26.820000</td>\n",
              "      <td>26.990000</td>\n",
              "      <td>10544700</td>\n",
              "    </tr>\n",
              "    <tr>\n",
              "      <th>2</th>\n",
              "      <td>26.990000</td>\n",
              "      <td>27.180000</td>\n",
              "      <td>26.959999</td>\n",
              "      <td>27.110001</td>\n",
              "      <td>4462900</td>\n",
              "    </tr>\n",
              "    <tr>\n",
              "      <th>3</th>\n",
              "      <td>27.120001</td>\n",
              "      <td>27.240000</td>\n",
              "      <td>27.059999</td>\n",
              "      <td>27.150000</td>\n",
              "      <td>3920300</td>\n",
              "    </tr>\n",
              "    <tr>\n",
              "      <th>4</th>\n",
              "      <td>27.139999</td>\n",
              "      <td>27.240000</td>\n",
              "      <td>27.059999</td>\n",
              "      <td>27.080000</td>\n",
              "      <td>4399900</td>\n",
              "    </tr>\n",
              "    <tr>\n",
              "      <th>...</th>\n",
              "      <td>...</td>\n",
              "      <td>...</td>\n",
              "      <td>...</td>\n",
              "      <td>...</td>\n",
              "      <td>...</td>\n",
              "    </tr>\n",
              "    <tr>\n",
              "      <th>156</th>\n",
              "      <td>26.309999</td>\n",
              "      <td>26.450001</td>\n",
              "      <td>26.299999</td>\n",
              "      <td>26.440001</td>\n",
              "      <td>5757200</td>\n",
              "    </tr>\n",
              "    <tr>\n",
              "      <th>157</th>\n",
              "      <td>26.450001</td>\n",
              "      <td>26.580000</td>\n",
              "      <td>26.440001</td>\n",
              "      <td>26.559999</td>\n",
              "      <td>6686500</td>\n",
              "    </tr>\n",
              "    <tr>\n",
              "      <th>158</th>\n",
              "      <td>26.549999</td>\n",
              "      <td>26.559999</td>\n",
              "      <td>26.309999</td>\n",
              "      <td>26.330000</td>\n",
              "      <td>6301100</td>\n",
              "    </tr>\n",
              "    <tr>\n",
              "      <th>159</th>\n",
              "      <td>26.340000</td>\n",
              "      <td>26.430000</td>\n",
              "      <td>26.299999</td>\n",
              "      <td>26.340000</td>\n",
              "      <td>5482800</td>\n",
              "    </tr>\n",
              "    <tr>\n",
              "      <th>160</th>\n",
              "      <td>26.350000</td>\n",
              "      <td>26.620001</td>\n",
              "      <td>26.290001</td>\n",
              "      <td>26.600000</td>\n",
              "      <td>25890000</td>\n",
              "    </tr>\n",
              "  </tbody>\n",
              "</table>\n",
              "<p>161 rows × 5 columns</p>\n",
              "</div>"
            ],
            "text/plain": [
              "          Open       High        Low      Close    Volume\n",
              "0    26.790001  27.059999  26.590000  27.049999         0\n",
              "1    27.059999  27.129999  26.820000  26.990000  10544700\n",
              "2    26.990000  27.180000  26.959999  27.110001   4462900\n",
              "3    27.120001  27.240000  27.059999  27.150000   3920300\n",
              "4    27.139999  27.240000  27.059999  27.080000   4399900\n",
              "..         ...        ...        ...        ...       ...\n",
              "156  26.309999  26.450001  26.299999  26.440001   5757200\n",
              "157  26.450001  26.580000  26.440001  26.559999   6686500\n",
              "158  26.549999  26.559999  26.309999  26.330000   6301100\n",
              "159  26.340000  26.430000  26.299999  26.340000   5482800\n",
              "160  26.350000  26.620001  26.290001  26.600000  25890000\n",
              "\n",
              "[161 rows x 5 columns]"
            ]
          },
          "metadata": {},
          "execution_count": 171
        }
      ]
    },
    {
      "cell_type": "code",
      "metadata": {
        "id": "BUpjL1mLNYWC"
      },
      "source": [
        "petr4_ok = pd.concat([new_index, petr4], axis=1)\n",
        "petr4 = petr4_ok.set_index('date')"
      ],
      "execution_count": null,
      "outputs": []
    },
    {
      "cell_type": "code",
      "metadata": {
        "id": "05YZIBY2UBSD"
      },
      "source": [
        "petr4.index = pd.to_datetime(petr4.index)"
      ],
      "execution_count": 182,
      "outputs": []
    },
    {
      "cell_type": "code",
      "metadata": {
        "colab": {
          "base_uri": "https://localhost:8080/"
        },
        "id": "XtUdPyXkXbZL",
        "outputId": "ec551ecd-6ca3-4bf1-8ea7-b362135c6fae"
      },
      "source": [
        "type(petr4.index)"
      ],
      "execution_count": 183,
      "outputs": [
        {
          "output_type": "execute_result",
          "data": {
            "text/plain": [
              "pandas.core.indexes.datetimes.DatetimeIndex"
            ]
          },
          "metadata": {},
          "execution_count": 183
        }
      ]
    },
    {
      "cell_type": "code",
      "metadata": {
        "id": "MmTkJfIGXzyh"
      },
      "source": [
        ""
      ],
      "execution_count": null,
      "outputs": []
    }
  ]
}